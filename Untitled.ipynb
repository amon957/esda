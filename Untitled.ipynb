{
 "cells": [
  {
   "cell_type": "code",
   "execution_count": 76,
   "id": "5fa68877",
   "metadata": {},
   "outputs": [
    {
     "name": "stdout",
     "output_type": "stream",
     "text": [
      "Accuracy: 0.9363295880149812\n"
     ]
    }
   ],
   "source": [
    "import pandas as pd\n",
    "from sklearn.ensemble import RandomForestClassifier\n",
    "from sklearn.model_selection import train_test_split\n",
    "from sklearn import metrics\n",
    "\n",
    "image_data=pd.read_csv('Extracted Data/Landsat8.csv')\n",
    "from sklearn.ensemble import RandomForestClassifier\n",
    "from sklearn.model_selection import train_test_split\n",
    "from sklearn import metrics\n",
    "\n",
    "image_data=pd.read_csv('Extracted Data/Landsat8.csv')\n",
    "\n",
    "training_data=pd.read_csv('Training/training_points.csv')\n",
    "\n",
    "X=training_data[['Band1','Band2','Band3','Band4','Band5','Band6','Band7','Band9','Band10','Band11']]\n",
    "y=training_data['class']\n",
    "\n",
    "X_train, X_test, y_train, y_test = train_test_split(X, y, test_size=0.5)\n",
    "clf=RandomForestClassifier(n_estimators=100)\n",
    "\n",
    "#Train the model using the training sets y_pred=clf.predict(X_test)\n",
    "clf.fit(X_train,y_train)\n",
    "y_pred=clf.predict(X_test)\n",
    "d={'Actual Class':y_test,'Predicted Class':y_pred}\n",
    "df=pd.DataFrame(d)\n",
    "print(\"Accuracy:\",metrics.accuracy_score(y_test, y_pred))"
   ]
  },
  {
   "cell_type": "code",
   "execution_count": 66,
   "id": "a01e332d",
   "metadata": {},
   "outputs": [],
   "source": [
    "pred=df.groupby('Predicted Class').size()\n",
    "actaul=df.groupby('Actual Class').size()"
   ]
  },
  {
   "cell_type": "code",
   "execution_count": 52,
   "id": "ba768c7f",
   "metadata": {},
   "outputs": [],
   "source": [
    "veg=df[df['Actual Class']=='Vegetation']\n",
    "built=df[df['Actual Class']=='Built-up']\n",
    "grass=df[df['Actual Class']=='Grassland']\n",
    "scatttered=df[df['Actual Class']=='Scattered Vegetation']\n",
    "water=df[df['Actual Class']=='Water Body']\n",
    "bare=df[df['Actual Class']=='Bare Ground']"
   ]
  },
  {
   "cell_type": "code",
   "execution_count": 82,
   "id": "b3f17d43",
   "metadata": {},
   "outputs": [],
   "source": [
    "from sklearn.metrics import confusion_matrix\n",
    "m=confusion_matrix(y_test, y_pred, labels=[\"Vegetation\", \"Built-up\", \"Grassland\",\"Scattered Vegetation\",\"Water Body\",\n",
    "                                          \"Bare Ground\"])\n",
    "df1=pd.DataFrame(m,columns=[\"Vegetation\", \"Built-up\", \"Grassland\",\"Scattered Vegetation\",\"Water Body\",\"Bare Ground\"],\n",
    "                index=[\"Vegetation\", \"Built-up\", \"Grassland\",\"Scattered Vegetation\",\"Water Body\",\"Bare Ground\"])"
   ]
  },
  {
   "cell_type": "code",
   "execution_count": 86,
   "id": "63a84871",
   "metadata": {},
   "outputs": [
    {
     "data": {
      "text/plain": [
       "0.918622371228284"
      ]
     },
     "execution_count": 86,
     "metadata": {},
     "output_type": "execute_result"
    }
   ],
   "source": [
    "from sklearn.metrics import cohen_kappa_score\n",
    "k=cohen_kappa_score(y_test, y_pred, labels=[\"Vegetation\", \"Built-up\", \"Grassland\",\"Scattered Vegetation\",\"Water Body\",\"Bare Ground\"])\n",
    "k"
   ]
  },
  {
   "cell_type": "code",
   "execution_count": null,
   "id": "541d08cb",
   "metadata": {},
   "outputs": [],
   "source": []
  }
 ],
 "metadata": {
  "kernelspec": {
   "display_name": "Python 3 (ipykernel)",
   "language": "python",
   "name": "python3"
  },
  "language_info": {
   "codemirror_mode": {
    "name": "ipython",
    "version": 3
   },
   "file_extension": ".py",
   "mimetype": "text/x-python",
   "name": "python",
   "nbconvert_exporter": "python",
   "pygments_lexer": "ipython3",
   "version": "3.9.7"
  }
 },
 "nbformat": 4,
 "nbformat_minor": 5
}
